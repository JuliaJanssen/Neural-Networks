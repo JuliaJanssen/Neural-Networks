{
 "cells": [
  {
   "cell_type": "markdown",
   "metadata": {},
   "source": [
    "##### Author contributions\n",
    "Please fill out for each of the following parts who contributed to what:\n",
    "- Conceived ideas: \n",
    "- Performed math exercises: \n",
    "- Performed programming exercises:\n",
    "- Contributed to the overall final assignment: "
   ]
  },
  {
   "cell_type": "markdown",
   "metadata": {},
   "source": [
    "# Chapter 4\n",
    "## Autoencoder\n",
    "\n",
    "    Hand-in bug-free (try \"Kernel\" > \"Restart & Run All\") and including all (textual as well as figural) output via Brightspace before the deadline (see Brightspace).\n",
    "    \n",
    "Learning goals:\n",
    "1. Derive and implement the mean-squared-error loss function and the rectified linear activation function\n",
    "1. Implement an autoencoder as a neural network with unsupervised learning\n",
    "1. Check what face features the autoencoder has learned to encode in the hidden units"
   ]
  },
  {
   "cell_type": "markdown",
   "metadata": {},
   "source": [
    "### Notes on the architecture\n",
    "\n",
    "The autoencoder network that you are about to implement has the same structure as in the MLP exercise: The input, hidden, and output node layers are connected with two weight layers. This time, the $n_h$ hidden layer nodes use a *rectified linear* activation function, and the output units use *linear* activations. \n",
    "\n",
    "Note that an autoencoder performs regresson, not to be confused with classification in the previous assignment. Also note that an autoencoder is nothing more than a multilayer perceptron, where the targets ($T$) are equal to the inputs ($X$). \n",
    "\n",
    "The data set is the Yale Face Database, which is a small set of grayscale photos of faces, each showing a different facial expression. The autoencoder will have as many input and output units as there are pixels. The hidden layer has far less units, as our goal is to learn a compressed representation of faces. The autoencoders job is \"learning to reconstruct\", that is, learning to reconstruct the face at the input units in the output units, after passing the information through the hidden units. Basically this means that `X` and `Y` are equal here. "
   ]
  },
  {
   "cell_type": "markdown",
   "metadata": {},
   "source": [
    "### Exercise 1: Mean squared error (1 point)"
   ]
  },
  {
   "cell_type": "markdown",
   "metadata": {},
   "source": [
    "As we want to predict pixel values we have a regression problem, and MSE is a convenient loss function for regression problems. MSE is large when the prediction is off, and near zero when the prediction is most similar to the target. The mean squared error (MSE) is given by:\n",
    "$$L = \\frac{1}{2N} \\sum^N_n \\sum^K_k (t^{(n)}_k - y^{(n)}_k)^2$$\n",
    "Here, $t^{(n)}_k$ is the target and $y^{(n)}_k$ the prediction of the $n$th data example and $k$th output unit. \n",
    "\n",
    "We need the derivative of the MSE with respect to $y$ to do gradient descent (i.e., backpropagation) to tweak the parameters (i.e., the weights) for regression. Derive the MSE with respect to $y$, i.e. derive $\\frac{\\partial L}{\\partial y}$. You can ignore the batch index $n$ (i.e., derive with $N = 1$)."
   ]
  },
  {
   "cell_type": "markdown",
   "metadata": {},
   "source": [
    "### Solution 1: \n",
    "\n",
    "$$L = \\frac{1}{2N} \\sum^N_n \\sum^K_k (t^{(n)}_k - y^{(n)}_k)^2$$\n",
    "$$L = \\frac{1}{2} \\sum^K_k (t_k - y_k)^2$$\n",
    "$$\\frac{\\partial L}{\\partial y} = \\frac{1}{2} \\sum^K_k 2(t_k - y_k) * -1$$\n",
    "$$\\frac{\\partial L}{\\partial y} = \\frac{1}{2} \\sum^K_k 2y_k - 2t_k$$\n",
    "$$\\frac{\\partial L}{\\partial y} = - \\sum^K_k y_k - t_k$$\n",
    "$$\\frac{\\partial L}{\\partial y} = \\sum^K_k (t_k - y_k)$$\n"
   ]
  },
  {
   "cell_type": "markdown",
   "metadata": {},
   "source": [
    "### Exercise 2: The rectified linear unit activation function (ReLU) (1 point)\n",
    "The rectified linear activation function is given by:\n",
    "$$f(a) = max(0, a)$$\n",
    "\n",
    "Obtain its derivative $\\frac{\\partial f}{\\partial a}$. \n",
    "\n",
    "Hint: It is a simple conditional expression (two cases)."
   ]
  },
  {
   "cell_type": "markdown",
   "metadata": {},
   "source": [
    "### Solution 2:\n",
    "$f(a) = max(0, a) $\n",
    "\n",
    "$\\frac{\\partial f}{\\partial a} = \n",
    "  \\begin{cases}\n",
    "    0       & \\quad \\text{if } a \\leq 0 \\\\\n",
    "    1  & \\quad \\text{if } a \\text{ > 0}\n",
    "  \\end{cases}$"
   ]
  },
  {
   "cell_type": "markdown",
   "metadata": {},
   "source": [
    "### Exercise 3: The forward pass (1 point)\n",
    "The network is defined as having two layers $W^1$ and $W^2$, where $W^1$ connects the input $x$ with the hidden layer $h$, and $W^2$ connects the hidden layer $h$ with the output layer $y$. For the hidden layer, we use rectified linear units with the activation function $f(a) = max(0, a)$. The output layer is just a linear layer (with the linear activation function $g(a) = a$). Write down the expressions for $a^1$, $h$, $a^2$, and $y$, where $a^1$ and $a^2$ are the activities of the hidden and output layer before passing them through the rectified linear and linear activations, respectively."
   ]
  },
  {
   "cell_type": "markdown",
   "metadata": {},
   "source": [
    "### Solution 3:\n",
    "\\begin{eqnarray*}\n",
    "a^1 &=&  xW^1\\\\\n",
    "h &=& f(a^1) = max(0, a^1) \\\\\n",
    "a^2 &=&  hW^2\\\\\n",
    "y &=& g(a^2) = a^2\n",
    "\\end{eqnarray*}"
   ]
  },
  {
   "cell_type": "markdown",
   "metadata": {},
   "source": [
    "### Exercise 4: Gradient of the last layer (1 point)\n",
    "To compute the partial derivatives on the weights $W^2$ of the last layer, we have to propagate from the error function back through the non-linearity to the weights. Derive the chain of partial derivatives to compute $\\frac{\\partial L}{\\partial W^2_{ij}}$."
   ]
  },
  {
   "cell_type": "markdown",
   "metadata": {},
   "source": [
    "### Solution 4\n",
    "$$ \\frac{\\partial L}{\\partial W_{ij}^2} = \\frac{\\partial L}{\\partial a^2 _i} \\cdot \\frac{\\partial a_{i}^2}{\\partial W^2_{ij}}$$\n",
    "\n",
    "$$ \\frac{\\partial L}{\\partial W_{ij}^2} = \\frac{\\partial L}{\\partial a^2 _i} \\cdot y_j^1$$\n",
    "\n",
    "$$ \\frac{\\partial L}{\\partial W_{ij}^2} = \\frac{\\partial L}{\\partial y^2 _i} \\cdot \\frac{\\partial y^2_i}{\\partial a^2 _i} \\cdot y_j^1$$\n",
    "\n",
    "$$ \\frac{\\partial L}{\\partial W_{ij}^2} = \\sum^K_k (t_k - y_k) \\cdot 1 \\cdot h$$\n",
    "\n",
    "$$ \\frac{\\partial L}{\\partial W_{ij}^2} = \\sum^K_k (t_k - y_k) \\cdot h$$"
   ]
  },
  {
   "cell_type": "markdown",
   "metadata": {},
   "source": [
    "### Exercise 5: Gradient of the first layer (1 point)\n",
    "To compute the partial derivatives on the weights $W^1$ of the first layer, we have to propagate the error even further down the network. Derive the chain of partial derivatives to compute $\\frac{\\partial L}{\\partial W^1_{ij}}$.\n",
    "\n",
    "Due do the derivative of the rectified linear activation, which is a conditional expression; you will end up with a conditional expression here too:\n",
    "\n",
    "\\begin{eqnarray*}\n",
    "\\frac{\\partial L}{\\partial W^1_{ij}} &=& \n",
    "\\begin{cases}\n",
    "    ?, & \\text{if } a^1 > 0 \\\\\n",
    "    ?, & \\text{otherwise}\n",
    "\\end{cases}\n",
    "\\end{eqnarray*}"
   ]
  },
  {
   "cell_type": "markdown",
   "metadata": {},
   "source": [
    "### Solution 5\n",
    "$$\\frac{\\partial L}{\\partial W^1_{ij}} = \\frac{\\partial L}{\\partial a^1_{i}} \\frac{\\partial a^1_{i}}{\\partial W^1_{ij}}$$\n",
    "\n",
    "$$\\frac{\\partial L}{\\partial W^1_{ij}} = \\frac{\\partial L}{\\partial a^1_{i}} x_{j}$$\n",
    "\n",
    "$$\\frac{\\partial L}{\\partial W^1_{ij}} = \\sum_k \\frac{\\partial L}{\\partial a^2_{k}} \\frac{\\partial a_{k}^2}{\\partial a^1_{i}} x_{j}$$\n",
    "\n",
    "$$\\frac{\\partial L}{\\partial W^1_{ij}} = \\sum_k (\\sum_n (t_n - y_n)) \\frac{\\partial a_{k}^2}{\\partial a^1_{i}} x_{j}$$\n",
    "\n",
    "$$\\frac{\\partial L}{\\partial W^1_{ij}} = \\sum_k (\\sum_n (t_n - y_n)) \\frac{\\partial a_{k}^2}{\\partial a^1_{i}} x_{j}$$\n",
    "\n",
    "$$\\frac{\\partial L}{\\partial W^1_{ij}} = \\sum_k (\\sum_n (t_n - y_n)) \\cdot W^2_k \\cdot \\frac{\\partial f}{\\partial a} x_{j}$$\n",
    "\n",
    " $$ \\frac{\\partial L}{\\partial W^1_{ij}} = \\begin{cases}\n",
    "    0       & \\quad \\text{if } a \\leq 0 \\\\\n",
    "    \\sum_k \\sum_n (t_n - y_n) \\cdot W^2_k \\cdot x_{j}  & \\quad \\text{if } a \\text{ > 0}\n",
    "  \\end{cases}$$"
   ]
  },
  {
   "cell_type": "markdown",
   "metadata": {},
   "source": [
    "### Exercise 6: Implementation (2.5 points)\n",
    "Now we can start implementing the autoencoder. Write the following functions:\n",
    "1. `mean_squared_error(Y, X)`: Computes the mean squared error. You need to sum over the pixel axis 0, and then mean  the result over the examples.\n",
    "1. `relu(A)`: Passes the activity `A` through the rectified linear unit. Use [`np.maximum`](https://docs.scipy.org/doc/numpy/reference/generated/numpy.maximum.html) to compare each element of A to 0.\n",
    "1. `linear(X, W)`: Computes the activities `A` as `X` weighted by `W`. Just like in the previous exercises. \n",
    "1. `forward(X, W1, W2)`: Computes the forward pass for the two-layer AE with the `relu(A)` function at the hidden units. As the linear activation is just the trivial identity there is no activation function at the output units. Returns `A1`, `H` and `Y`. \n",
    "1. `backward(X, A1, H, Y, W2)`: Computes the backward pass for the two-layer AE with ReLU hidden units and MSE. The conditional can be realized by multiplying with the matrix `(A1 > 0).astype('float')`. \n",
    "1. `train_network(X_train, X_val, n_hidden, n_epochs, eta)`: Implement the training procedure (train the model on training data, and evaluate on both training and validation data). See the skeleton code for some help. Note that we have supplied a `initialize_weights(n_in, n_out)` function to initialize weights in the range from the MLP assignment. Remember that the input is equal to the output, so we do not need anything but `X_train` for training. \n",
    "\n",
    "Feel free to copy some code from the previous exercises."
   ]
  },
  {
   "cell_type": "markdown",
   "metadata": {},
   "source": [
    "### Solution 6"
   ]
  },
  {
   "cell_type": "code",
   "execution_count": 21,
   "metadata": {},
   "outputs": [],
   "source": [
    "%matplotlib inline\n",
    "import matplotlib.pyplot as plt\n",
    "import numpy as np\n",
    "import os\n",
    "from PIL import Image"
   ]
  },
  {
   "cell_type": "code",
   "execution_count": 22,
   "metadata": {},
   "outputs": [],
   "source": [
    "def initialize_weights(n_in, n_out):\n",
    "    \"\"\"\n",
    "    Initializes a weight matrix.\n",
    "    INPUT:\n",
    "        n_in  = [int] number of input units.\n",
    "        n_out = [int] number of output units\n",
    "    OUTPUTS\n",
    "        W = [n_out n_in] the initial weight matrix\n",
    "    \"\"\"\n",
    "    r = np.sqrt(6) / np.sqrt(n_out + n_in)\n",
    "    return np.random.uniform(-r, r, [n_out, n_in])"
   ]
  },
  {
   "cell_type": "code",
   "execution_count": 23,
   "metadata": {},
   "outputs": [],
   "source": [
    "def mean_squared_error(Y, X):\n",
    "    \"\"\"\n",
    "    Computes the mean squared error.\n",
    "    INPUT:\n",
    "        Y = [P N] output vector for N examples of length P\n",
    "        X = [P N] target vector for N examples of length P\n",
    "    OUTPUTS\n",
    "        L = [flt] the MSE\n",
    "    \"\"\"\n",
    "    L = np.sum(X - Y)\n",
    "    return L"
   ]
  },
  {
   "cell_type": "code",
   "execution_count": 24,
   "metadata": {},
   "outputs": [],
   "source": [
    "def relu(A):\n",
    "    \"\"\"\n",
    "    Computes the rectified linear activation.\n",
    "    INPUT:\n",
    "        A = [K N] activity matrix of K units for N examples\n",
    "    OUTPUT\n",
    "        Y = [K N] output matrix of K units for N examples\n",
    "    \"\"\"\n",
    "    Y = A\n",
    "    for i in range(0, len(A)):\n",
    "        for j in range(0, len(A[0])):\n",
    "            if(A[i][j] <= 0):\n",
    "                Y[i][j] = 0\n",
    "    return Y"
   ]
  },
  {
   "cell_type": "code",
   "execution_count": 25,
   "metadata": {},
   "outputs": [],
   "source": [
    "def linear(X, W):\n",
    "    \"\"\"\n",
    "    Computes the activities for a fully connected layer.\n",
    "    INPUT:\n",
    "        X = [P N] data matrix of P input units for N examples\n",
    "        W = [Q P] weight matrix of P inputs to Q outputs\n",
    "    OUTPUT\n",
    "        A = [Q N] activity matrix of Q output units for N examples\n",
    "    \"\"\"\n",
    "    A = np.dot(W, X) \n",
    "    return A"
   ]
  },
  {
   "cell_type": "code",
   "execution_count": 26,
   "metadata": {},
   "outputs": [],
   "source": [
    "def forward(X, W1, W2):\n",
    "    \"\"\"\n",
    "    Computes the forward pass for a two-layer AE with relu hidden units.\n",
    "    INPUT\n",
    "        X  = [P N] data matrix of P inputs for N examples\n",
    "        W1 = [Q P] weight matrix of the first layer from P input pixels to Q outputs\n",
    "        W2 = [P Q] weight vector of the second layer of Q inputs to P output pixels\n",
    "    OUTPUT\n",
    "        A1 = [Q N] activation matrix of Q hidden units for N examples\n",
    "        H  = [Q N] output matrix of Q hidden units for N examples\n",
    "        Y  = [P N] output pixel vectors (reconstructions) for N examples\n",
    "    \"\"\"    \n",
    "    A1 = linear(X, W1)\n",
    "    H = relu(A1)\n",
    "    Y = linear(A1, W2)\n",
    "    return A1, H, Y"
   ]
  },
  {
   "cell_type": "code",
   "execution_count": 90,
   "metadata": {},
   "outputs": [],
   "source": [
    "def backward(X, A1, H, Y, W2):\n",
    "    \"\"\"\n",
    "    Computes the backward pass for a two-layer network with sigmoid and softmax units, and cross-entropy loss.  \n",
    "    INPUT:\n",
    "        X  = [P N] data matrix of P inputs for N examples\n",
    "        A1 = [Q N] activation matrix of Q hidden units for N examples\n",
    "        H  = [Q N] output matrix of Q hidden units for N examples\n",
    "        Y  = [P N] output pixel vectors of length P for N examples\n",
    "        W2 = [P Q] weight vector of the second layer of Q inputs to P outputs\n",
    "    OUTPUT\n",
    "        dW1 = [Q P] gradient matrix for the weights of layer 1 of P inputs to Q outputs\n",
    "        dW2 = [P Q] gradient matrix for the weights of layer 2 of Q inputs to P outputs\n",
    "    \"\"\"\n",
    "    dW2 = np.dot((X - Y), H.T)\n",
    "    b = (A1 > 0).astype(int)\n",
    "    error1 = np.sum(np.dot(np.sum(X - Y), W2)) * b\n",
    "    dW1 = np.dot(error1, X.T)\n",
    "    return dW1, dW2"
   ]
  },
  {
   "cell_type": "code",
   "execution_count": 91,
   "metadata": {},
   "outputs": [],
   "source": [
    "def train_network(X_train, X_val, n_hidden=30, n_epochs=2000, eta=10**-5):\n",
    "    \"\"\"\n",
    "    Performs the training procedure for a two-layer MLP with ReLU hidden units and MSE.\n",
    "    INPUT:\n",
    "        X_train  = [P N] training data matrix of P inputs for N training examples\n",
    "        X_val    = [P M] validation data matrix of P inputs for M validation examples\n",
    "        n_hidden = [int] number of hidden units (default 30)\n",
    "        n_epochs = [int] number of training epochs (default 2000)\n",
    "        eta      = [flt] learning rate (default 10^-5)\n",
    "    OUTPUT:\n",
    "        W1         = [Q P] the learned weights for layer 1 of P inputs to Q outputs\n",
    "        W2         = [P Q] the learned weights for layer 2 of Q inputs to P output pixels\n",
    "        train_loss = [Z 1] the training loss for Z epochs\n",
    "        val_loss   = [Z 1] the validation loss for Z epochs\n",
    "    \"\"\"\n",
    "    \n",
    "    # Initialize W1 and W2 (use initialize_weights())\n",
    "    W1 = initialize_weights(len(X_train), n_hidden)\n",
    "    W2 = initialize_weights(n_hidden, len(X_train))\n",
    "    \n",
    "    # Loop over epochs\n",
    "    train_loss = np.zeros((n_epochs))\n",
    "    val_loss = np.zeros((n_epochs))\n",
    "    for i_epoch in range(n_epochs):\n",
    "        \n",
    "        # Forward pass\n",
    "        A1_train, H_train, Y_train = forward(X_train, W1, W2)\n",
    "        A1_val, H_val, Y_val = forward(X_val, W1, W2)\n",
    "        \n",
    "        # Backward pass\n",
    "        dW1, dW2 = backward(X_train, A1_train, H_train, Y_train, W2)\n",
    "        \n",
    "        # Parameter update\n",
    "        W1 = W1 - eta * dW1\n",
    "        W2 = W2 - eta * dW2\n",
    "        \n",
    "        # Save loss\n",
    "        train_loss[i_epoch] = mean_squared_error(Y_train, X_train)\n",
    "        val_loss[i_epoch] = mean_squared_error(Y_val, X_val)\n",
    "        \n",
    "        # Print progress and loss\n",
    "        if i_epoch % 50 == 0:\n",
    "            print(\"Epoch {}/{}. Train loss: {:.3f}. Validation loss: {:.3f}.\".format(\n",
    "                1+i_epoch, n_epochs, train_loss[i_epoch], val_loss[i_epoch]))\n",
    "        \n",
    "    return W1, W2, train_loss, val_loss"
   ]
  },
  {
   "cell_type": "markdown",
   "metadata": {},
   "source": [
    "### Loading the data\n",
    "\n",
    "In the next cells we load and prepare the face dataset. We also show example faces from the data set. Then we remove the mean from the data, and divide it by its standard deviation. This process, leading to a data set with zero-mean and unit variance is almost always an important preprocessing step. No information gets lost, but many common machine learning methods expect such *standardized* or *z-transformed* data. "
   ]
  },
  {
   "cell_type": "code",
   "execution_count": 92,
   "metadata": {},
   "outputs": [
    {
     "name": "stdout",
     "output_type": "stream",
     "text": [
      "Dimensions of face data set: (768, 165).\n"
     ]
    }
   ],
   "source": [
    "# Read dataset\n",
    "maxsz = [32, 32]\n",
    "X = []\n",
    "i = 0\n",
    "for file_name in os.listdir(os.path.join(os.getcwd(), \"yalefaces\")):\n",
    "    if file_name[:7] != \"subject\":\n",
    "        continue\n",
    "    im = Image.open(os.path.join(os.getcwd(), \"yalefaces\", file_name))\n",
    "    im.thumbnail(maxsz, Image.ANTIALIAS)\n",
    "    data = np.asarray(im)\n",
    "    if i == 0:\n",
    "        sz = data.shape\n",
    "    X.append(np.ndarray.flatten(data))\n",
    "    i += 1\n",
    "X = np.array(X).astype(\"float32\")\n",
    "X = X.T\n",
    "\n",
    "# Print dimensions\n",
    "print(\"Dimensions of face data set: {}.\".format(X.shape))"
   ]
  },
  {
   "cell_type": "code",
   "execution_count": 93,
   "metadata": {},
   "outputs": [
    {
     "data": {
      "image/png": "[encoded data removed]",
      "text/plain": [
       "<Figure size 864x288 with 10 Axes>"
      ]
     },
     "metadata": {},
     "output_type": "display_data"
    }
   ],
   "source": [
    "# Plot some examples\n",
    "fig, ax = plt.subplots(2, 5, figsize=(12, 4))\n",
    "ax = ax.flatten()\n",
    "for i_example in range(len(ax)):\n",
    "    ax[i_example].imshow(X[:, i_example*10].reshape((sz)), cmap=\"gray\")\n",
    "    ax[i_example].set_xticks([], [])\n",
    "    ax[i_example].set_yticks([], [])"
   ]
  },
  {
   "cell_type": "code",
   "execution_count": 94,
   "metadata": {},
   "outputs": [],
   "source": [
    "# Standardise data to zero mean and unit variance. We are doing this manually here as we need \n",
    "# mu and sigma to revert this operation (add mu, multiply by sigma) when \n",
    "# visualizing the resulting reconstructed faces. \n",
    "\n",
    "mu = X.mean(axis=1)\n",
    "sigma = X.std(axis=1)\n",
    "\n",
    "X -= np.expand_dims(mu, 1)\n",
    "X /= np.expand_dims(sigma, 1)"
   ]
  },
  {
   "cell_type": "code",
   "execution_count": 95,
   "metadata": {},
   "outputs": [
    {
     "name": "stdout",
     "output_type": "stream",
     "text": [
      "Dimensions training inputs: (768, 100)\n",
      "Dimensions validation inputs: (768, 40)\n",
      "Dimensions testing inputs: (768, 25)\n"
     ]
    }
   ],
   "source": [
    "# Split dataset in training, validation, and testing split\n",
    "X_train = X[:, :100]\n",
    "X_val = X[:, 100:140]\n",
    "X_test = X[:, 140:]\n",
    "\n",
    "# Print dimensions\n",
    "print(\"Dimensions training inputs: {}\".format(X_train.shape))\n",
    "print(\"Dimensions validation inputs: {}\".format(X_val.shape))\n",
    "print(\"Dimensions testing inputs: {}\".format(X_test.shape))"
   ]
  },
  {
   "cell_type": "markdown",
   "metadata": {},
   "source": [
    "### Exercise 7: Running autoencoder training (0.5 points)\n",
    "Now that we have done all the work, we can finally run the autoencoder to learn reconstructing faces. \n",
    "\n",
    "1. Train your network on the training dataset `X_train`, and validate it at each epoch on the test set `X_val`. Use de default values for the number of hidden units, learning rate, and number of epochs.\n",
    "1. After training, plot the train and validation losses over epochs (as returned by `train_network()`."
   ]
  },
  {
   "cell_type": "markdown",
   "metadata": {},
   "source": [
    "### Solution 7"
   ]
  },
  {
   "cell_type": "code",
   "execution_count": 96,
   "metadata": {},
   "outputs": [
    {
     "name": "stdout",
     "output_type": "stream",
     "text": [
      "Epoch 1/2000. Train loss: 586.494. Validation loss: -548.687.\n",
      "Epoch 51/2000. Train loss: nan. Validation loss: nan.\n"
     ]
    },
    {
     "name": "stderr",
     "output_type": "stream",
     "text": [
      "C:\\Users\\stijn\\Anaconda3\\lib\\site-packages\\numpy\\core\\fromnumeric.py:90: RuntimeWarning: overflow encountered in reduce\n",
      "  return ufunc.reduce(obj, axis, dtype, out, **passkwargs)\n",
      "C:\\Users\\stijn\\Anaconda3\\lib\\site-packages\\numpy\\core\\fromnumeric.py:90: RuntimeWarning: invalid value encountered in reduce\n",
      "  return ufunc.reduce(obj, axis, dtype, out, **passkwargs)\n",
      "C:\\Users\\stijn\\Anaconda3\\lib\\site-packages\\ipykernel_launcher.py:15: RuntimeWarning: invalid value encountered in greater\n",
      "  from ipykernel import kernelapp as app\n"
     ]
    },
    {
     "name": "stdout",
     "output_type": "stream",
     "text": [
      "Epoch 101/2000. Train loss: nan. Validation loss: nan.\n",
      "Epoch 151/2000. Train loss: nan. Validation loss: nan.\n",
      "Epoch 201/2000. Train loss: nan. Validation loss: nan.\n",
      "Epoch 251/2000. Train loss: nan. Validation loss: nan.\n",
      "Epoch 301/2000. Train loss: nan. Validation loss: nan.\n",
      "Epoch 351/2000. Train loss: nan. Validation loss: nan.\n",
      "Epoch 401/2000. Train loss: nan. Validation loss: nan.\n",
      "Epoch 451/2000. Train loss: nan. Validation loss: nan.\n",
      "Epoch 501/2000. Train loss: nan. Validation loss: nan.\n",
      "Epoch 551/2000. Train loss: nan. Validation loss: nan.\n",
      "Epoch 601/2000. Train loss: nan. Validation loss: nan.\n",
      "Epoch 651/2000. Train loss: nan. Validation loss: nan.\n",
      "Epoch 701/2000. Train loss: nan. Validation loss: nan.\n",
      "Epoch 751/2000. Train loss: nan. Validation loss: nan.\n",
      "Epoch 801/2000. Train loss: nan. Validation loss: nan.\n",
      "Epoch 851/2000. Train loss: nan. Validation loss: nan.\n",
      "Epoch 901/2000. Train loss: nan. Validation loss: nan.\n",
      "Epoch 951/2000. Train loss: nan. Validation loss: nan.\n",
      "Epoch 1001/2000. Train loss: nan. Validation loss: nan.\n",
      "Epoch 1051/2000. Train loss: nan. Validation loss: nan.\n",
      "Epoch 1101/2000. Train loss: nan. Validation loss: nan.\n",
      "Epoch 1151/2000. Train loss: nan. Validation loss: nan.\n",
      "Epoch 1201/2000. Train loss: nan. Validation loss: nan.\n",
      "Epoch 1251/2000. Train loss: nan. Validation loss: nan.\n",
      "Epoch 1301/2000. Train loss: nan. Validation loss: nan.\n",
      "Epoch 1351/2000. Train loss: nan. Validation loss: nan.\n",
      "Epoch 1401/2000. Train loss: nan. Validation loss: nan.\n",
      "Epoch 1451/2000. Train loss: nan. Validation loss: nan.\n",
      "Epoch 1501/2000. Train loss: nan. Validation loss: nan.\n",
      "Epoch 1551/2000. Train loss: nan. Validation loss: nan.\n",
      "Epoch 1601/2000. Train loss: nan. Validation loss: nan.\n",
      "Epoch 1651/2000. Train loss: nan. Validation loss: nan.\n",
      "Epoch 1701/2000. Train loss: nan. Validation loss: nan.\n",
      "Epoch 1751/2000. Train loss: nan. Validation loss: nan.\n",
      "Epoch 1801/2000. Train loss: nan. Validation loss: nan.\n",
      "Epoch 1851/2000. Train loss: nan. Validation loss: nan.\n",
      "Epoch 1901/2000. Train loss: nan. Validation loss: nan.\n",
      "Epoch 1951/2000. Train loss: nan. Validation loss: nan.\n"
     ]
    },
    {
     "data": {
      "text/plain": [
       "[<matplotlib.lines.Line2D at 0x2852d046808>]"
      ]
     },
     "execution_count": 96,
     "metadata": {},
     "output_type": "execute_result"
    },
    {
     "data": {
      "image/png": "[encoded data removed]",
      "text/plain": [
       "<Figure size 432x288 with 1 Axes>"
      ]
     },
     "metadata": {
      "needs_background": "light"
     },
     "output_type": "display_data"
    }
   ],
   "source": [
    "# Train the network\n",
    "n_hidden = 30\n",
    "n_epochs = 2000\n",
    "eta = 10**-5\n",
    "W1, W2, train_loss, val_loss = train_network(X_train, X_val, n_hidden, n_epochs, eta)\n",
    "\n",
    "# Plot the training and validation losses\n",
    "plt.plot(np.arange(0, n_epochs), train_loss)\n",
    "plt.plot(np.arange(0, n_epochs), val_loss)"
   ]
  },
  {
   "cell_type": "markdown",
   "metadata": {},
   "source": [
    "### Exercise 8: Reconstruction (1 point)\n",
    "\n",
    "Choose 5 faces from the set, and plot their original and their reconstructed image side-by-side. That is, plot a chosen face and the output your trained autoencoder (represented by the weights) creates for it.\n",
    "\n",
    "Use [`np.reshape`](https://docs.scipy.org/doc/numpy-1.13.0/reference/generated/numpy.reshape.html) to reshape pixel values for the input and output images to their original dimensions `sz` in a 2D array. Then make use of [`plt.imshow()`](https://matplotlib.org/devdocs/api/_as_gen/matplotlib.pyplot.imshow.html) with a `gray` colormap to show the faces. \n",
    "\n",
    "You need to revert the scaling operation by multiplying by `sigma` and adding the `mean` (both previously computed) on each `x` and `y` (If you don't, your real and reconstructed images will be off, e.g. too dark.). Think carefully about whether you have to do this before or after passing the images through your network!"
   ]
  },
  {
   "cell_type": "markdown",
   "metadata": {},
   "source": [
    "### Solution 8"
   ]
  },
  {
   "cell_type": "code",
   "execution_count": 98,
   "metadata": {},
   "outputs": [
    {
     "ename": "SyntaxError",
     "evalue": "unexpected EOF while parsing (<ipython-input-98-1b62efed82fe>, line 17)",
     "output_type": "error",
     "traceback": [
      "\u001b[1;36m  File \u001b[1;32m\"<ipython-input-98-1b62efed82fe>\"\u001b[1;36m, line \u001b[1;32m17\u001b[0m\n\u001b[1;33m    ## Code here ##\u001b[0m\n\u001b[1;37m                   ^\u001b[0m\n\u001b[1;31mSyntaxError\u001b[0m\u001b[1;31m:\u001b[0m unexpected EOF while parsing\n"
     ]
    }
   ],
   "source": [
    "# Open a 5-by-2 figure with plt.subplots\n",
    "fig, ax = plt.subplots(5, 2)\n",
    "\n",
    "# Loop over 5\n",
    "for i in range(0, 5):\n",
    "\n",
    "    # Take a new example from X (the autoencoder input)\n",
    "    sample = X[np.random(len(X_train))]\n",
    "    \n",
    "    # Forward pass of X through the network, obtain the reconstruction y\n",
    "    y = forward(X_train, W1, W2)\n",
    "    \n",
    "    # Plot the original X\n",
    "    ax[i, 0].imshow()\n",
    "    \n",
    "    # Plot the reconstructed X (output Y)\n",
    "    ax[i, 1].imshow()"
   ]
  },
  {
   "cell_type": "markdown",
   "metadata": {
    "collapsed": true
   },
   "source": [
    "### Exercise 9: Weights and receptive fields (1 point)\n",
    "We can visualize what was learned during classification and by the autoencoder. During training, the hidden units have become pattern detectors that you can interpret as *receptive fields*. \n",
    "\n",
    "You should visualize both `W1` and `W2`. To visualize the learned pattern of a single unit $i$, use [`np.reshape`](https://docs.scipy.org/doc/numpy-1.13.0/reference/generated/numpy.reshape.html) to reshape the weights leading from all image pixels to unit $i$ into a 2D array. Then make use of [`plt.imshow()`](https://matplotlib.org/devdocs/api/_as_gen/matplotlib.pyplot.imshow.html) with a `gray` colormap to show the learned pattern."
   ]
  },
  {
   "cell_type": "markdown",
   "metadata": {},
   "source": [
    "### Solution 9"
   ]
  },
  {
   "cell_type": "code",
   "execution_count": 23,
   "metadata": {},
   "outputs": [],
   "source": [
    "# Visualize W1\n",
    "np.reshape()\n",
    "plt.imshow()\n",
    "\n",
    "# Visualize W2\n",
    "np.reshape()\n",
    "plt.imshow()"
   ]
  }
 ],
 "metadata": {
  "anaconda-cloud": {},
  "kernelspec": {
   "display_name": "Python 3",
   "language": "python",
   "name": "python3"
  },
  "language_info": {
   "codemirror_mode": {
    "name": "ipython",
    "version": 3
   },
   "file_extension": ".py",
   "mimetype": "text/x-python",
   "name": "python",
   "nbconvert_exporter": "python",
   "pygments_lexer": "ipython3",
   "version": "3.7.5"
  }
 },
 "nbformat": 4,
 "nbformat_minor": 2
}
